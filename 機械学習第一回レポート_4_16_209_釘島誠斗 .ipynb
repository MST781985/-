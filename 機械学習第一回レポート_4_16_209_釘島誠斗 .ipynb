{
  "nbformat": 4,
  "nbformat_minor": 0,
  "metadata": {
    "colab": {
      "provenance": []
    },
    "kernelspec": {
      "name": "python3",
      "display_name": "Python 3"
    },
    "language_info": {
      "name": "python"
    }
  },
  "cells": [
    {
      "cell_type": "code",
      "source": [
        "from google.colab import drive\n",
        "drive.mount('/content/drive')"
      ],
      "metadata": {
        "colab": {
          "base_uri": "https://localhost:8080/"
        },
        "id": "lj4VHtgLbIdu",
        "outputId": "34d36676-a0a7-4f2d-f539-a18547505a8b"
      },
      "execution_count": 8,
      "outputs": [
        {
          "output_type": "stream",
          "name": "stdout",
          "text": [
            "Drive already mounted at /content/drive; to attempt to forcibly remount, call drive.mount(\"/content/drive\", force_remount=True).\n"
          ]
        }
      ]
    },
    {
      "cell_type": "code",
      "source": [
        "!pip install japanize-matplotlib"
      ],
      "metadata": {
        "colab": {
          "base_uri": "https://localhost:8080/"
        },
        "id": "ic4BN8k8tgur",
        "outputId": "22265401-e48c-4e19-885c-7d7995ff8420"
      },
      "execution_count": 5,
      "outputs": [
        {
          "output_type": "stream",
          "name": "stdout",
          "text": [
            "Looking in indexes: https://pypi.org/simple, https://us-python.pkg.dev/colab-wheels/public/simple/\n",
            "Requirement already satisfied: japanize-matplotlib in /usr/local/lib/python3.10/dist-packages (1.1.3)\n",
            "Requirement already satisfied: matplotlib in /usr/local/lib/python3.10/dist-packages (from japanize-matplotlib) (3.7.1)\n",
            "Requirement already satisfied: contourpy>=1.0.1 in /usr/local/lib/python3.10/dist-packages (from matplotlib->japanize-matplotlib) (1.0.7)\n",
            "Requirement already satisfied: cycler>=0.10 in /usr/local/lib/python3.10/dist-packages (from matplotlib->japanize-matplotlib) (0.11.0)\n",
            "Requirement already satisfied: fonttools>=4.22.0 in /usr/local/lib/python3.10/dist-packages (from matplotlib->japanize-matplotlib) (4.39.3)\n",
            "Requirement already satisfied: kiwisolver>=1.0.1 in /usr/local/lib/python3.10/dist-packages (from matplotlib->japanize-matplotlib) (1.4.4)\n",
            "Requirement already satisfied: numpy>=1.20 in /usr/local/lib/python3.10/dist-packages (from matplotlib->japanize-matplotlib) (1.22.4)\n",
            "Requirement already satisfied: packaging>=20.0 in /usr/local/lib/python3.10/dist-packages (from matplotlib->japanize-matplotlib) (23.1)\n",
            "Requirement already satisfied: pillow>=6.2.0 in /usr/local/lib/python3.10/dist-packages (from matplotlib->japanize-matplotlib) (8.4.0)\n",
            "Requirement already satisfied: pyparsing>=2.3.1 in /usr/local/lib/python3.10/dist-packages (from matplotlib->japanize-matplotlib) (3.0.9)\n",
            "Requirement already satisfied: python-dateutil>=2.7 in /usr/local/lib/python3.10/dist-packages (from matplotlib->japanize-matplotlib) (2.8.2)\n",
            "Requirement already satisfied: six>=1.5 in /usr/local/lib/python3.10/dist-packages (from python-dateutil>=2.7->matplotlib->japanize-matplotlib) (1.16.0)\n"
          ]
        }
      ]
    },
    {
      "cell_type": "code",
      "execution_count": 7,
      "metadata": {
        "id": "Yu8vk7ugFUxs"
      },
      "outputs": [],
      "source": [
        "import numpy as np\n",
        "import pandas as pd\n",
        "import matplotlib.pyplot as plt\n",
        "import japanize_matplotlib\n",
        "\n",
        "\n",
        "\n",
        "# N(７０, 20)で50人分の乱数を生成\n",
        "scores = np.random.normal(70, 20, 50)\n",
        "\n",
        "# 乱数を四捨五入によって整数値にし、100点を超える場合は100に制限する\n",
        "scaled_scores = np.round(scores).astype(int)\n",
        "scaled_scores = np.minimum(scaled_scores, 100).astype(int)\n",
        "\n",
        "# データフレームの作成\n",
        "data = pd.DataFrame(scaled_scores, columns=[\"Total\"])\n",
        "\n",
        "# データフレームをファイルとして保存\n",
        "data.to_csv(\"点数一覧表.csv\", index=False)\n",
        "\n",
        "# データの読み込み\n",
        "loaded_data = pd.read_csv(\"点数一覧表.csv\")\n",
        "\n",
        "\n",
        "\n",
        "# 記述統計量の計算\n",
        "#平均値\n",
        "mean_score = np.mean(loaded_data[\"Total\"])\n",
        "#分散\n",
        "var_score = np.var(loaded_data[\"Total\"])\n",
        "#最大値\n",
        "max_score = np.max(loaded_data[\"Total\"])\n",
        "#最小値\n",
        "min_score = np.min(loaded_data[\"Total\"])\n",
        "#中央値\n",
        "median_score = np.median(loaded_data[\"Total\"])\n",
        "#四分位数\n",
        "quartiles = np.percentile(loaded_data[\"Total\"], [25, 50, 75])\n",
        "lower_quartile = quartiles[0]\n",
        "median_quartile = quartiles[1]\n",
        "upper_quartile = quartiles[2]\n",
        "\n",
        "#　箱ひげ図の作成\n",
        "plt.boxplot(loaded_data[\"Total\"],showfliers=True)\n",
        "plt.ylabel(\"合計点数\")\n",
        "plt.title(\"試験の合計点数の箱ひげ図\")\n",
        "plt.text(1, median_score, f\"中央値: {median_score}\", fontsize=8, va='bottom', ha='right')\n",
        "plt.text(1, max_score, f\"最大値: {max_score}\", fontsize=8, va='bottom', ha='right')\n",
        "plt.text(1, min_score, f\"最小値: {min_score}\", fontsize=8, va='bottom', ha='right')\n",
        "plt.text(1, lower_quartile, f\"第一四分位数: {lower_quartile}\", fontsize=8, va='bottom', ha='right')\n",
        "plt.text(1, upper_quartile, f\"第三四分位数: {upper_quartile}\", fontsize=8, va='bottom', ha='right')\n",
        "plt.savefig(\"箱ひげ図.png\")\n",
        "plt.close()\n",
        "\n",
        "# ヒストグラムの作成\n",
        "bin_width =10\n",
        "num_bins = int((np.max(loaded_data[\"Total\"]) - np.min(loaded_data[\"Total\"])) / bin_width)\n",
        "plt.hist(loaded_data[\"Total\"], bins=num_bins, alpha=0.75 , edgecolor='black')\n",
        "plt.xlabel(\"合計点数（点）\")\n",
        "plt.ylabel(\"度数（人）\")\n",
        "plt.title(\"試験の合計点数のヒストグラム\")\n",
        "plt.savefig(\"試験の合計点数のヒストグラム.png\")\n",
        "plt.close()\n",
        "\n",
        "# 結果の出力\n",
        "result = f\"平均値:{mean_score}\\n分散:{var_score}\\n最大値:{max_score}\\n最小値:{min_score}\\n中央値:{median_score}\\n第一四分位数:{lower_quartile}\\n第二四分位数:{median_quartile}\\n第三四分位数:{upper_quartile}\"\n",
        "#結果を考察してみると、最初にN（７０,20）で生成されているはずが、値がずれていることがわかる。\n",
        "#これは５０個しか乱数を生成していないことによる弊害であると考えられる。\n",
        "#生成数を増やしていくと、平均や標準偏差が理想に近づくだろう。\n",
        "\n",
        "# 結果をテキストファイルに保存\n",
        "with open(\"記述統計量まとめ.txt\", \"w\") as file:\n",
        "    file.write(result)\n"
      ]
    }
  ]
}